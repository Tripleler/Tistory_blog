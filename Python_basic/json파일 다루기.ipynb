{
 "cells": [
  {
   "cell_type": "code",
   "execution_count": 1,
   "id": "e04c327f",
   "metadata": {
    "ExecuteTime": {
     "end_time": "2022-04-14T09:56:08.333061Z",
     "start_time": "2022-04-14T09:56:08.326081Z"
    }
   },
   "outputs": [],
   "source": [
    "import json"
   ]
  },
  {
   "cell_type": "code",
   "execution_count": 4,
   "id": "066f0d15",
   "metadata": {
    "ExecuteTime": {
     "end_time": "2022-04-14T09:57:49.596440Z",
     "start_time": "2022-04-14T09:57:49.582451Z"
    }
   },
   "outputs": [],
   "source": [
    "with open('result.json', 'r') as f:\n",
    "    data = json.load(f)"
   ]
  },
  {
   "cell_type": "code",
   "execution_count": 55,
   "id": "eb847cb5",
   "metadata": {
    "ExecuteTime": {
     "end_time": "2022-04-14T12:50:46.923779Z",
     "start_time": "2022-04-14T12:50:46.901864Z"
    },
    "scrolled": true
   },
   "outputs": [
    {
     "data": {
      "text/plain": [
       "{'images': [{'file': 'D:/park/animal/sample\\\\3cha_1.JPG',\n",
       "   'max_detection_conf': 0,\n",
       "   'detections': []},\n",
       "  {'file': 'D:/park/animal/sample\\\\3cha_10.jpg',\n",
       "   'max_detection_conf': 0.999,\n",
       "   'detections': [{'category': '1',\n",
       "     'conf': 0.999,\n",
       "     'bbox': [0.2453, 0.5106, 0.3966, 0.4385]}]},\n",
       "  {'file': 'D:/park/animal/sample\\\\3cha_11.jpg',\n",
       "   'max_detection_conf': 0.999,\n",
       "   'detections': [{'category': '1',\n",
       "     'conf': 0.999,\n",
       "     'bbox': [0.2453, 0.5106, 0.3966, 0.4385]}]},\n",
       "  {'file': 'D:/park/animal/sample\\\\3cha_12.jpg',\n",
       "   'max_detection_conf': 0.999,\n",
       "   'detections': [{'category': '1',\n",
       "     'conf': 0.999,\n",
       "     'bbox': [0.2864, 0.4187, 0.3314, 0.4356]}]},\n",
       "  {'file': 'D:/park/animal/sample\\\\3cha_13.jpg',\n",
       "   'max_detection_conf': 0.999,\n",
       "   'detections': [{'category': '1',\n",
       "     'conf': 0.999,\n",
       "     'bbox': [0.3604, 0.4166, 0.2933, 0.4449]}]},\n",
       "  {'file': 'D:/park/animal/sample\\\\3cha_14.jpg',\n",
       "   'max_detection_conf': 0.999,\n",
       "   'detections': [{'category': '1',\n",
       "     'conf': 0.999,\n",
       "     'bbox': [0.4122, 0.4765, 0.2824, 0.4968]}]},\n",
       "  {'file': 'D:/park/animal/sample\\\\3cha_15.jpg',\n",
       "   'max_detection_conf': 0.999,\n",
       "   'detections': [{'category': '1',\n",
       "     'conf': 0.999,\n",
       "     'bbox': [0.6985, 0.4801, 0.1774, 0.4959]}]},\n",
       "  {'file': 'D:/park/animal/sample\\\\3cha_16.jpg',\n",
       "   'max_detection_conf': 0.999,\n",
       "   'detections': [{'category': '1',\n",
       "     'conf': 0.999,\n",
       "     'bbox': [0.4807, 0.5029, 0.1742, 0.4664]}]},\n",
       "  {'file': 'D:/park/animal/sample\\\\3cha_17.jpg',\n",
       "   'max_detection_conf': 0.999,\n",
       "   'detections': [{'category': '1',\n",
       "     'conf': 0.999,\n",
       "     'bbox': [0.5358, 0.5925, 0.1253, 0.3784]}]},\n",
       "  {'file': 'D:/park/animal/sample\\\\3cha_18.jpg',\n",
       "   'max_detection_conf': 0.999,\n",
       "   'detections': [{'category': '1',\n",
       "     'conf': 0.999,\n",
       "     'bbox': [0.4688, 0.6325, 0.1535, 0.32]}]},\n",
       "  {'file': 'D:/park/animal/sample\\\\3cha_19.jpg',\n",
       "   'max_detection_conf': 0.999,\n",
       "   'detections': [{'category': '1',\n",
       "     'conf': 0.999,\n",
       "     'bbox': [0.07275, 0.2236, 0.5233, 0.7511]}]},\n",
       "  {'file': 'D:/park/animal/sample\\\\3cha_2.JPG',\n",
       "   'max_detection_conf': 0,\n",
       "   'detections': []},\n",
       "  {'file': 'D:/park/animal/sample\\\\3cha_20.jpg',\n",
       "   'max_detection_conf': 0.999,\n",
       "   'detections': [{'category': '1',\n",
       "     'conf': 0.999,\n",
       "     'bbox': [0.2578, 0.02754, 0.4163, 0.9457]}]},\n",
       "  {'file': 'D:/park/animal/sample\\\\3cha_3.JPG',\n",
       "   'max_detection_conf': 0.999,\n",
       "   'detections': [{'category': '1',\n",
       "     'conf': 0.999,\n",
       "     'bbox': [0.4244, 0.5873, 0.06911, 0.279]},\n",
       "    {'category': '1',\n",
       "     'conf': 0.22,\n",
       "     'bbox': [0.3181, 0.5012, 0.04518, 0.1024]}]},\n",
       "  {'file': 'D:/park/animal/sample\\\\3cha_4.JPG',\n",
       "   'max_detection_conf': 0.997,\n",
       "   'detections': [{'category': '1',\n",
       "     'conf': 0.997,\n",
       "     'bbox': [0.2288, 0.6448, 0.197, 0.2881]}]},\n",
       "  {'file': 'D:/park/animal/sample\\\\3cha_5.jpg',\n",
       "   'max_detection_conf': 0.999,\n",
       "   'detections': [{'category': '1',\n",
       "     'conf': 0.999,\n",
       "     'bbox': [0.3399, 0.07934, 0.3699, 0.6088]}]},\n",
       "  {'file': 'D:/park/animal/sample\\\\3cha_6.jpg',\n",
       "   'max_detection_conf': 0.999,\n",
       "   'detections': [{'category': '1',\n",
       "     'conf': 0.999,\n",
       "     'bbox': [0.3203, 0.1081, 0.2844, 0.6354]}]},\n",
       "  {'file': 'D:/park/animal/sample\\\\3cha_7.jpg',\n",
       "   'max_detection_conf': 0.999,\n",
       "   'detections': [{'category': '1',\n",
       "     'conf': 0.999,\n",
       "     'bbox': [0.285, 0.4884, 0.2319, 0.3851]}]},\n",
       "  {'file': 'D:/park/animal/sample\\\\3cha_8.jpg',\n",
       "   'max_detection_conf': 0.999,\n",
       "   'detections': [{'category': '1',\n",
       "     'conf': 0.999,\n",
       "     'bbox': [0.3938, 0.6374, 0.3172, 0.3121]}]},\n",
       "  {'file': 'D:/park/animal/sample\\\\3cha_9.jpg',\n",
       "   'max_detection_conf': 0.999,\n",
       "   'detections': [{'category': '1',\n",
       "     'conf': 0.999,\n",
       "     'bbox': [0.3853, 0.4329, 0.2123, 0.5288]}]}],\n",
       " 'detection_categories': {'1': 'animal', '2': 'person', '3': 'vehicle'},\n",
       " 'info': {'detection_completion_time': '2022-03-24 10:32:40',\n",
       "  'format_version': '1.0'}}"
      ]
     },
     "execution_count": 55,
     "metadata": {},
     "output_type": "execute_result"
    }
   ],
   "source": [
    "data"
   ]
  },
  {
   "cell_type": "code",
   "execution_count": 61,
   "id": "d448dc9e",
   "metadata": {
    "ExecuteTime": {
     "end_time": "2022-04-14T12:58:41.490403Z",
     "start_time": "2022-04-14T12:58:41.472457Z"
    }
   },
   "outputs": [
    {
     "name": "stdout",
     "output_type": "stream",
     "text": [
      "dict_keys(['images', 'detection_categories', 'info'])\n"
     ]
    }
   ],
   "source": [
    "print(data.keys())"
   ]
  },
  {
   "cell_type": "code",
   "execution_count": 59,
   "id": "1b597055",
   "metadata": {
    "ExecuteTime": {
     "end_time": "2022-04-14T12:54:43.737799Z",
     "start_time": "2022-04-14T12:54:43.720317Z"
    },
    "scrolled": true
   },
   "outputs": [
    {
     "data": {
      "text/plain": [
       "[{'file': 'D:/park/animal/sample\\\\3cha_1.JPG',\n",
       "  'max_detection_conf': 0,\n",
       "  'detections': []},\n",
       " {'file': 'D:/park/animal/sample\\\\3cha_10.jpg',\n",
       "  'max_detection_conf': 0.999,\n",
       "  'detections': [{'category': '1',\n",
       "    'conf': 0.999,\n",
       "    'bbox': [0.2453, 0.5106, 0.3966, 0.4385]}]},\n",
       " {'file': 'D:/park/animal/sample\\\\3cha_11.jpg',\n",
       "  'max_detection_conf': 0.999,\n",
       "  'detections': [{'category': '1',\n",
       "    'conf': 0.999,\n",
       "    'bbox': [0.2453, 0.5106, 0.3966, 0.4385]}]},\n",
       " {'file': 'D:/park/animal/sample\\\\3cha_12.jpg',\n",
       "  'max_detection_conf': 0.999,\n",
       "  'detections': [{'category': '1',\n",
       "    'conf': 0.999,\n",
       "    'bbox': [0.2864, 0.4187, 0.3314, 0.4356]}]},\n",
       " {'file': 'D:/park/animal/sample\\\\3cha_13.jpg',\n",
       "  'max_detection_conf': 0.999,\n",
       "  'detections': [{'category': '1',\n",
       "    'conf': 0.999,\n",
       "    'bbox': [0.3604, 0.4166, 0.2933, 0.4449]}]},\n",
       " {'file': 'D:/park/animal/sample\\\\3cha_14.jpg',\n",
       "  'max_detection_conf': 0.999,\n",
       "  'detections': [{'category': '1',\n",
       "    'conf': 0.999,\n",
       "    'bbox': [0.4122, 0.4765, 0.2824, 0.4968]}]},\n",
       " {'file': 'D:/park/animal/sample\\\\3cha_15.jpg',\n",
       "  'max_detection_conf': 0.999,\n",
       "  'detections': [{'category': '1',\n",
       "    'conf': 0.999,\n",
       "    'bbox': [0.6985, 0.4801, 0.1774, 0.4959]}]},\n",
       " {'file': 'D:/park/animal/sample\\\\3cha_16.jpg',\n",
       "  'max_detection_conf': 0.999,\n",
       "  'detections': [{'category': '1',\n",
       "    'conf': 0.999,\n",
       "    'bbox': [0.4807, 0.5029, 0.1742, 0.4664]}]},\n",
       " {'file': 'D:/park/animal/sample\\\\3cha_17.jpg',\n",
       "  'max_detection_conf': 0.999,\n",
       "  'detections': [{'category': '1',\n",
       "    'conf': 0.999,\n",
       "    'bbox': [0.5358, 0.5925, 0.1253, 0.3784]}]},\n",
       " {'file': 'D:/park/animal/sample\\\\3cha_18.jpg',\n",
       "  'max_detection_conf': 0.999,\n",
       "  'detections': [{'category': '1',\n",
       "    'conf': 0.999,\n",
       "    'bbox': [0.4688, 0.6325, 0.1535, 0.32]}]},\n",
       " {'file': 'D:/park/animal/sample\\\\3cha_19.jpg',\n",
       "  'max_detection_conf': 0.999,\n",
       "  'detections': [{'category': '1',\n",
       "    'conf': 0.999,\n",
       "    'bbox': [0.07275, 0.2236, 0.5233, 0.7511]}]},\n",
       " {'file': 'D:/park/animal/sample\\\\3cha_2.JPG',\n",
       "  'max_detection_conf': 0,\n",
       "  'detections': []},\n",
       " {'file': 'D:/park/animal/sample\\\\3cha_20.jpg',\n",
       "  'max_detection_conf': 0.999,\n",
       "  'detections': [{'category': '1',\n",
       "    'conf': 0.999,\n",
       "    'bbox': [0.2578, 0.02754, 0.4163, 0.9457]}]},\n",
       " {'file': 'D:/park/animal/sample\\\\3cha_3.JPG',\n",
       "  'max_detection_conf': 0.999,\n",
       "  'detections': [{'category': '1',\n",
       "    'conf': 0.999,\n",
       "    'bbox': [0.4244, 0.5873, 0.06911, 0.279]},\n",
       "   {'category': '1',\n",
       "    'conf': 0.22,\n",
       "    'bbox': [0.3181, 0.5012, 0.04518, 0.1024]}]},\n",
       " {'file': 'D:/park/animal/sample\\\\3cha_4.JPG',\n",
       "  'max_detection_conf': 0.997,\n",
       "  'detections': [{'category': '1',\n",
       "    'conf': 0.997,\n",
       "    'bbox': [0.2288, 0.6448, 0.197, 0.2881]}]},\n",
       " {'file': 'D:/park/animal/sample\\\\3cha_5.jpg',\n",
       "  'max_detection_conf': 0.999,\n",
       "  'detections': [{'category': '1',\n",
       "    'conf': 0.999,\n",
       "    'bbox': [0.3399, 0.07934, 0.3699, 0.6088]}]},\n",
       " {'file': 'D:/park/animal/sample\\\\3cha_6.jpg',\n",
       "  'max_detection_conf': 0.999,\n",
       "  'detections': [{'category': '1',\n",
       "    'conf': 0.999,\n",
       "    'bbox': [0.3203, 0.1081, 0.2844, 0.6354]}]},\n",
       " {'file': 'D:/park/animal/sample\\\\3cha_7.jpg',\n",
       "  'max_detection_conf': 0.999,\n",
       "  'detections': [{'category': '1',\n",
       "    'conf': 0.999,\n",
       "    'bbox': [0.285, 0.4884, 0.2319, 0.3851]}]},\n",
       " {'file': 'D:/park/animal/sample\\\\3cha_8.jpg',\n",
       "  'max_detection_conf': 0.999,\n",
       "  'detections': [{'category': '1',\n",
       "    'conf': 0.999,\n",
       "    'bbox': [0.3938, 0.6374, 0.3172, 0.3121]}]},\n",
       " {'file': 'D:/park/animal/sample\\\\3cha_9.jpg',\n",
       "  'max_detection_conf': 0.999,\n",
       "  'detections': [{'category': '1',\n",
       "    'conf': 0.999,\n",
       "    'bbox': [0.3853, 0.4329, 0.2123, 0.5288]}]}]"
      ]
     },
     "execution_count": 59,
     "metadata": {},
     "output_type": "execute_result"
    }
   ],
   "source": [
    "data['images']"
   ]
  },
  {
   "cell_type": "code",
   "execution_count": 60,
   "id": "841806fc",
   "metadata": {
    "ExecuteTime": {
     "end_time": "2022-04-14T12:57:03.482592Z",
     "start_time": "2022-04-14T12:57:03.467634Z"
    }
   },
   "outputs": [
    {
     "name": "stdout",
     "output_type": "stream",
     "text": [
      "20\n"
     ]
    }
   ],
   "source": [
    "print(len(data['images']))"
   ]
  },
  {
   "cell_type": "code",
   "execution_count": 62,
   "id": "7d5bf302",
   "metadata": {
    "ExecuteTime": {
     "end_time": "2022-04-14T12:59:30.408294Z",
     "start_time": "2022-04-14T12:59:30.396223Z"
    }
   },
   "outputs": [
    {
     "data": {
      "text/plain": [
       "{'file': 'D:/park/animal/sample\\\\3cha_3.JPG',\n",
       " 'max_detection_conf': 0.999,\n",
       " 'detections': [{'category': '1',\n",
       "   'conf': 0.999,\n",
       "   'bbox': [0.4244, 0.5873, 0.06911, 0.279]},\n",
       "  {'category': '1', 'conf': 0.22, 'bbox': [0.3181, 0.5012, 0.04518, 0.1024]}]}"
      ]
     },
     "execution_count": 62,
     "metadata": {},
     "output_type": "execute_result"
    }
   ],
   "source": [
    "data['images'][13]"
   ]
  },
  {
   "cell_type": "code",
   "execution_count": 65,
   "id": "1901ab8d",
   "metadata": {
    "ExecuteTime": {
     "end_time": "2022-04-14T13:03:25.949265Z",
     "start_time": "2022-04-14T13:03:25.930317Z"
    }
   },
   "outputs": [
    {
     "data": {
      "text/plain": [
       "[0.4244, 0.5873, 0.06911, 0.279]"
      ]
     },
     "execution_count": 65,
     "metadata": {},
     "output_type": "execute_result"
    }
   ],
   "source": [
    "data['images'][13]['detections'][0]['bbox']"
   ]
  },
  {
   "cell_type": "code",
   "execution_count": 49,
   "id": "054c5a51",
   "metadata": {
    "ExecuteTime": {
     "end_time": "2022-04-14T12:44:11.205546Z",
     "start_time": "2022-04-14T12:44:11.187794Z"
    }
   },
   "outputs": [],
   "source": [
    "def check_all_keys(data, result):\n",
    "    for key, val in data.items():\n",
    "        if key not in result:\n",
    "            result.append(key)\n",
    "        if isinstance(val, dict):\n",
    "            check_all_keys(val, result)\n",
    "        elif isinstance(val, list):\n",
    "            for factor in val:\n",
    "                if isinstance(factor, dict):\n",
    "                    check_all_keys(factor, result)\n",
    "    return result"
   ]
  },
  {
   "cell_type": "code",
   "execution_count": 67,
   "id": "b78d1e46",
   "metadata": {
    "ExecuteTime": {
     "end_time": "2022-04-14T13:12:12.340853Z",
     "start_time": "2022-04-14T13:12:12.330880Z"
    }
   },
   "outputs": [
    {
     "data": {
      "text/plain": [
       "['images',\n",
       " 'file',\n",
       " 'max_detection_conf',\n",
       " 'detections',\n",
       " 'category',\n",
       " 'conf',\n",
       " 'bbox',\n",
       " 'detection_categories',\n",
       " '1',\n",
       " '2',\n",
       " '3',\n",
       " 'info',\n",
       " 'detection_completion_time',\n",
       " 'format_version']"
      ]
     },
     "execution_count": 67,
     "metadata": {},
     "output_type": "execute_result"
    }
   ],
   "source": [
    "check_all_keys(data, [])"
   ]
  },
  {
   "cell_type": "code",
   "execution_count": null,
   "id": "824821bb",
   "metadata": {
    "ExecuteTime": {
     "end_time": "2022-04-14T13:37:59.620094Z",
     "start_time": "2022-04-14T13:37:59.603139Z"
    }
   },
   "outputs": [],
   "source": [
    "# result = []\n",
    "# sep = '/'\n",
    "# for key, val in data.items():\n",
    "#     if key not in result:\n",
    "#         result.append(key)\n",
    "#     if isinstance(val, dict):\n",
    "#         for key2, val2 in val.items():\n",
    "#             item = key+sep+key2\n",
    "#             if item not in result:\n",
    "#                 result.append(item)\n",
    "#     elif isinstance(val, list):\n",
    "#         for factor in val:\n",
    "#             if isinstance(factor, dict):\n",
    "#                 for key2, val2 in factor.items():\n",
    "#                     item = key+sep+key2\n",
    "#                     if item not in result:\n",
    "#                         result.append(item)\n",
    "#                     if isinstance(val, dict):\n",
    "#                         for key3, val3 in val.items():\n",
    "#                             if key+sep+key3 not in result:\n",
    "#                                 result.append(key+sep+key3)\n",
    "#                     if isinstance(val2, list):\n",
    "#                         for factor2 in val2:\n",
    "#                             if isinstance(factor2, dict):\n",
    "#                                 for key3, val3 in factor2.items():\n",
    "#                                     if key+sep+key2+sep+key3 not in result:\n",
    "#                                         result.append(key+sep+key2+sep+key3)\n",
    "        \n",
    "# result"
   ]
  },
  {
   "cell_type": "code",
   "execution_count": null,
   "id": "b6893c20",
   "metadata": {
    "ExecuteTime": {
     "end_time": "2022-04-14T13:40:14.786466Z",
     "start_time": "2022-04-14T13:40:14.778488Z"
    }
   },
   "outputs": [],
   "source": [
    "# def check_all_keytrees(data, result=[], sep='/'):\n",
    "#     for key, val in data.items():\n",
    "#         if key not in result:\n",
    "#             result.append(key)\n",
    "#         if isinstance(val, dict):\n",
    "#             check_all_keytrees(val, result)\n",
    "#         elif isinstance(val, list):\n",
    "#             for factor in val:\n",
    "#                 if isinstance(factor, dict):\n",
    "#                     check_all_keytrees(factor, result)\n",
    "#     return result\n",
    "\n",
    "# check_all_keytrees(data)"
   ]
  },
  {
   "cell_type": "code",
   "execution_count": 93,
   "id": "d3b044fe",
   "metadata": {
    "ExecuteTime": {
     "end_time": "2022-04-14T13:59:50.718761Z",
     "start_time": "2022-04-14T13:59:50.709778Z"
    }
   },
   "outputs": [
    {
     "data": {
      "text/plain": [
       "{'file': 'D:/park/animal/sample\\\\3cha_3.JPG',\n",
       " 'max_detection_conf': 0.999,\n",
       " 'detections': [{'category': '1',\n",
       "   'conf': 0.999,\n",
       "   'bbox': [0.4244, 0.5873, 0.06911, 0.279]},\n",
       "  {'category': '1', 'conf': 0.22, 'bbox': [0.3181, 0.5012, 0.04518, 0.1024]}]}"
      ]
     },
     "execution_count": 93,
     "metadata": {},
     "output_type": "execute_result"
    }
   ],
   "source": [
    "new_data = data['images'][13]\n",
    "new_data"
   ]
  },
  {
   "cell_type": "code",
   "execution_count": 96,
   "id": "7cdf2fa2",
   "metadata": {
    "ExecuteTime": {
     "end_time": "2022-04-14T14:02:00.771543Z",
     "start_time": "2022-04-14T14:02:00.762568Z"
    }
   },
   "outputs": [],
   "source": [
    "with open('sample.json', 'w') as f:\n",
    "    json.dump(new_data, f)"
   ]
  },
  {
   "cell_type": "code",
   "execution_count": 97,
   "id": "942c4bd7",
   "metadata": {
    "ExecuteTime": {
     "end_time": "2022-04-14T14:02:54.957220Z",
     "start_time": "2022-04-14T14:02:54.939267Z"
    }
   },
   "outputs": [
    {
     "data": {
      "text/plain": [
       "{'file': 'D:/park/animal/sample\\\\3cha_3.JPG',\n",
       " 'max_detection_conf': 0.999,\n",
       " 'detections': [{'category': '1',\n",
       "   'conf': 0.999,\n",
       "   'bbox': [0.4244, 0.5873, 0.06911, 0.279]},\n",
       "  {'category': '1', 'conf': 0.22, 'bbox': [0.3181, 0.5012, 0.04518, 0.1024]}]}"
      ]
     },
     "execution_count": 97,
     "metadata": {},
     "output_type": "execute_result"
    }
   ],
   "source": [
    "with open('sample.json', 'r') as f:\n",
    "    read_new = json.load(f)\n",
    "read_new"
   ]
  }
 ],
 "metadata": {
  "kernelspec": {
   "display_name": "Python 3 (ipykernel)",
   "language": "python",
   "name": "python3"
  },
  "language_info": {
   "codemirror_mode": {
    "name": "ipython",
    "version": 3
   },
   "file_extension": ".py",
   "mimetype": "text/x-python",
   "name": "python",
   "nbconvert_exporter": "python",
   "pygments_lexer": "ipython3",
   "version": "3.9.7"
  },
  "toc": {
   "base_numbering": 1,
   "nav_menu": {},
   "number_sections": true,
   "sideBar": true,
   "skip_h1_title": false,
   "title_cell": "Table of Contents",
   "title_sidebar": "Contents",
   "toc_cell": false,
   "toc_position": {},
   "toc_section_display": true,
   "toc_window_display": false
  },
  "varInspector": {
   "cols": {
    "lenName": 16,
    "lenType": 16,
    "lenVar": 40
   },
   "kernels_config": {
    "python": {
     "delete_cmd_postfix": "",
     "delete_cmd_prefix": "del ",
     "library": "var_list.py",
     "varRefreshCmd": "print(var_dic_list())"
    },
    "r": {
     "delete_cmd_postfix": ") ",
     "delete_cmd_prefix": "rm(",
     "library": "var_list.r",
     "varRefreshCmd": "cat(var_dic_list()) "
    }
   },
   "types_to_exclude": [
    "module",
    "function",
    "builtin_function_or_method",
    "instance",
    "_Feature"
   ],
   "window_display": false
  }
 },
 "nbformat": 4,
 "nbformat_minor": 5
}
