{
 "cells": [
  {
   "cell_type": "markdown",
   "id": "94aa87a9",
   "metadata": {},
   "source": [
    "# How to sort list or string to reverse?"
   ]
  },
  {
   "cell_type": "markdown",
   "id": "c2d3354f",
   "metadata": {},
   "source": [
    "### Trash code example"
   ]
  },
  {
   "cell_type": "code",
   "execution_count": 1,
   "id": "4764f7bd",
   "metadata": {
    "ExecuteTime": {
     "end_time": "2022-01-29T06:45:04.293265Z",
     "start_time": "2022-01-29T06:45:04.285287Z"
    }
   },
   "outputs": [
    {
     "name": "stdout",
     "output_type": "stream",
     "text": [
      "nohtyp\n"
     ]
    }
   ],
   "source": [
    "s = 'python'\n",
    "answer = ''\n",
    "for i in range(len(s)):\n",
    "    answer += s[-(i+1)]\n",
    "print(answer)"
   ]
  },
  {
   "cell_type": "markdown",
   "id": "e290fe83",
   "metadata": {},
   "source": [
    "### Slicing example"
   ]
  },
  {
   "cell_type": "code",
   "execution_count": 3,
   "id": "881d486b",
   "metadata": {
    "ExecuteTime": {
     "end_time": "2022-01-29T06:48:15.925783Z",
     "start_time": "2022-01-29T06:48:15.759739Z"
    }
   },
   "outputs": [
    {
     "name": "stdout",
     "output_type": "stream",
     "text": [
      "ytho\n",
      "pytho\n",
      "hon\n",
      "pto\n",
      "ph\n"
     ]
    },
    {
     "ename": "ValueError",
     "evalue": "slice step cannot be zero",
     "output_type": "error",
     "traceback": [
      "\u001b[1;31m---------------------------------------------------------------------------\u001b[0m",
      "\u001b[1;31mValueError\u001b[0m                                Traceback (most recent call last)",
      "\u001b[1;32mC:\\Users\\TRIPLE~1\\AppData\\Local\\Temp/ipykernel_11400/1873380495.py\u001b[0m in \u001b[0;36m<module>\u001b[1;34m\u001b[0m\n\u001b[0;32m      4\u001b[0m \u001b[0mprint\u001b[0m\u001b[1;33m(\u001b[0m\u001b[0ms\u001b[0m\u001b[1;33m[\u001b[0m\u001b[1;36m0\u001b[0m\u001b[1;33m:\u001b[0m\u001b[1;36m6\u001b[0m\u001b[1;33m:\u001b[0m\u001b[1;36m2\u001b[0m\u001b[1;33m]\u001b[0m\u001b[1;33m)\u001b[0m\u001b[1;33m\u001b[0m\u001b[1;33m\u001b[0m\u001b[0m\n\u001b[0;32m      5\u001b[0m \u001b[0mprint\u001b[0m\u001b[1;33m(\u001b[0m\u001b[0ms\u001b[0m\u001b[1;33m[\u001b[0m\u001b[1;33m:\u001b[0m\u001b[1;33m:\u001b[0m\u001b[1;36m3\u001b[0m\u001b[1;33m]\u001b[0m\u001b[1;33m)\u001b[0m\u001b[1;33m\u001b[0m\u001b[1;33m\u001b[0m\u001b[0m\n\u001b[1;32m----> 6\u001b[1;33m \u001b[0mprint\u001b[0m\u001b[1;33m(\u001b[0m\u001b[0ms\u001b[0m\u001b[1;33m[\u001b[0m\u001b[1;33m:\u001b[0m\u001b[1;33m:\u001b[0m\u001b[1;36m0\u001b[0m\u001b[1;33m]\u001b[0m\u001b[1;33m)\u001b[0m\u001b[1;33m\u001b[0m\u001b[1;33m\u001b[0m\u001b[0m\n\u001b[0m",
      "\u001b[1;31mValueError\u001b[0m: slice step cannot be zero"
     ]
    }
   ],
   "source": [
    "print(s[1:5])      # start argument, end argument\n",
    "print(s[:5])       # can omit start argument\n",
    "print(s[3:])       # can omit end argument\n",
    "print(s[0:6:2])    # use step argument\n",
    "print(s[::3])      # can omit start&end argument\n",
    "print(s[::0])      # step argument cannot be zero -> raise value error"
   ]
  },
  {
   "cell_type": "markdown",
   "id": "fe9de8cf",
   "metadata": {},
   "source": [
    "### Use slicing to sort reverse"
   ]
  },
  {
   "cell_type": "code",
   "execution_count": 6,
   "id": "a5884a70",
   "metadata": {
    "ExecuteTime": {
     "end_time": "2022-01-29T06:53:56.732933Z",
     "start_time": "2022-01-29T06:53:56.721962Z"
    }
   },
   "outputs": [
    {
     "name": "stdout",
     "output_type": "stream",
     "text": [
      "\n",
      "nohty\n",
      "nohtyp\n"
     ]
    }
   ],
   "source": [
    "print(s[0:6:-1])  # If step argument is minus, You have to change start & end argument each other\n",
    "print(s[6:0:-1])  # end argument not clean\n",
    "print(s[::-1])    # omit end argument"
   ]
  },
  {
   "cell_type": "markdown",
   "id": "19a146d1",
   "metadata": {},
   "source": [
    "### List example"
   ]
  },
  {
   "cell_type": "code",
   "execution_count": 7,
   "id": "30ec1316",
   "metadata": {
    "ExecuteTime": {
     "end_time": "2022-01-29T06:54:38.502319Z",
     "start_time": "2022-01-29T06:54:38.492347Z"
    }
   },
   "outputs": [
    {
     "name": "stdout",
     "output_type": "stream",
     "text": [
      "['n', 'o', 'h', 't', 'y', 'p']\n",
      "['o', 't', 'p']\n"
     ]
    }
   ],
   "source": [
    "l = list(s)\n",
    "print(l[::-1])\n",
    "print(l[4::-2])"
   ]
  }
 ],
 "metadata": {
  "kernelspec": {
   "display_name": "Python 3 (ipykernel)",
   "language": "python",
   "name": "python3"
  },
  "language_info": {
   "codemirror_mode": {
    "name": "ipython",
    "version": 3
   },
   "file_extension": ".py",
   "mimetype": "text/x-python",
   "name": "python",
   "nbconvert_exporter": "python",
   "pygments_lexer": "ipython3",
   "version": "3.9.7"
  },
  "toc": {
   "base_numbering": 1,
   "nav_menu": {},
   "number_sections": true,
   "sideBar": true,
   "skip_h1_title": false,
   "title_cell": "Table of Contents",
   "title_sidebar": "Contents",
   "toc_cell": false,
   "toc_position": {},
   "toc_section_display": true,
   "toc_window_display": false
  },
  "varInspector": {
   "cols": {
    "lenName": 16,
    "lenType": 16,
    "lenVar": 40
   },
   "kernels_config": {
    "python": {
     "delete_cmd_postfix": "",
     "delete_cmd_prefix": "del ",
     "library": "var_list.py",
     "varRefreshCmd": "print(var_dic_list())"
    },
    "r": {
     "delete_cmd_postfix": ") ",
     "delete_cmd_prefix": "rm(",
     "library": "var_list.r",
     "varRefreshCmd": "cat(var_dic_list()) "
    }
   },
   "types_to_exclude": [
    "module",
    "function",
    "builtin_function_or_method",
    "instance",
    "_Feature"
   ],
   "window_display": false
  }
 },
 "nbformat": 4,
 "nbformat_minor": 5
}
